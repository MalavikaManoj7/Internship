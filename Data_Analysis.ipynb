{
  "nbformat": 4,
  "nbformat_minor": 0,
  "metadata": {
    "colab": {
      "provenance": [],
      "authorship_tag": "ABX9TyOfpYtoCzcSk3yMFl6QMIhT",
      "include_colab_link": true
    },
    "kernelspec": {
      "name": "python3",
      "display_name": "Python 3"
    },
    "language_info": {
      "name": "python"
    }
  },
  "cells": [
    {
      "cell_type": "markdown",
      "metadata": {
        "id": "view-in-github",
        "colab_type": "text"
      },
      "source": [
        "<a href=\"https://colab.research.google.com/github/MalavikaManoj7/Internship/blob/main/Data_Analysis.ipynb\" target=\"_parent\"><img src=\"https://colab.research.google.com/assets/colab-badge.svg\" alt=\"Open In Colab\"/></a>"
      ]
    },
    {
      "cell_type": "code",
      "source": [
        "#Install necessary libraries\n",
        "import pandas as pd\n",
        "import numpy as np\n",
        "import matplotlib.pyplot as plt\n",
        "import seaborn as sns"
      ],
      "metadata": {
        "id": "FY7gxQmrSoNc"
      },
      "execution_count": null,
      "outputs": []
    },
    {
      "cell_type": "code",
      "source": [
        "#Load the dataset\n",
        "df= pd.read_csv(\"/content/Online Retail Dataset.csv\")"
      ],
      "metadata": {
        "id": "YI2BjinmSoTV"
      },
      "execution_count": null,
      "outputs": []
    },
    {
      "cell_type": "code",
      "source": [
        "#To previee first few rows of the dataset\n",
        "print(df.head())"
      ],
      "metadata": {
        "colab": {
          "base_uri": "https://localhost:8080/"
        },
        "id": "DbijzgTsb29Z",
        "outputId": "82e58941-9979-4814-b1f3-8f4e58745866"
      },
      "execution_count": null,
      "outputs": [
        {
          "output_type": "stream",
          "name": "stdout",
          "text": [
            "  InvoiceNo StockCode                          Description  Quantity  \\\n",
            "0    536365    85123A   WHITE HANGING HEART T-LIGHT HOLDER         6   \n",
            "1    536365     71053                  WHITE METAL LANTERN         6   \n",
            "2    536365    84406B       CREAM CUPID HEARTS COAT HANGER         8   \n",
            "3    536365    84029G  KNITTED UNION FLAG HOT WATER BOTTLE         6   \n",
            "4    536365    84029E       RED WOOLLY HOTTIE WHITE HEART.         6   \n",
            "\n",
            "        InvoiceDate  UnitPrice  CustomerID         Country  \n",
            "0  01-12-2010 08:26       2.55     17850.0  United Kingdom  \n",
            "1  01-12-2010 08:26       3.39     17850.0  United Kingdom  \n",
            "2  01-12-2010 08:26       2.75     17850.0  United Kingdom  \n",
            "3  01-12-2010 08:26       3.39     17850.0  United Kingdom  \n",
            "4  01-12-2010 08:26       3.39     17850.0  United Kingdom  \n"
          ]
        }
      ]
    },
    {
      "cell_type": "code",
      "source": [
        "# Display a concise summary of the dataset\n",
        "print(df.info())"
      ],
      "metadata": {
        "colab": {
          "base_uri": "https://localhost:8080/"
        },
        "id": "IAHGKKIicTQu",
        "outputId": "b48f8e50-4237-495e-eb96-7f9b15723753"
      },
      "execution_count": null,
      "outputs": [
        {
          "output_type": "stream",
          "name": "stdout",
          "text": [
            "<class 'pandas.core.frame.DataFrame'>\n",
            "RangeIndex: 24721 entries, 0 to 24720\n",
            "Data columns (total 8 columns):\n",
            " #   Column       Non-Null Count  Dtype  \n",
            "---  ------       --------------  -----  \n",
            " 0   InvoiceNo    24721 non-null  object \n",
            " 1   StockCode    24721 non-null  object \n",
            " 2   Description  24610 non-null  object \n",
            " 3   Quantity     24721 non-null  int64  \n",
            " 4   InvoiceDate  24721 non-null  object \n",
            " 5   UnitPrice    24721 non-null  float64\n",
            " 6   CustomerID   16030 non-null  float64\n",
            " 7   Country      24721 non-null  object \n",
            "dtypes: float64(2), int64(1), object(5)\n",
            "memory usage: 1.5+ MB\n",
            "None\n"
          ]
        }
      ]
    },
    {
      "cell_type": "code",
      "source": [
        "# Check for missing values\n",
        "print(df.isnull().sum())"
      ],
      "metadata": {
        "colab": {
          "base_uri": "https://localhost:8080/"
        },
        "id": "uddVpyK4cunH",
        "outputId": "047f9da0-2d2a-4ec4-abb9-4281c44bfbba"
      },
      "execution_count": null,
      "outputs": [
        {
          "output_type": "stream",
          "name": "stdout",
          "text": [
            "InvoiceNo         0\n",
            "StockCode         0\n",
            "Description     111\n",
            "Quantity          0\n",
            "InvoiceDate       0\n",
            "UnitPrice         0\n",
            "CustomerID     8691\n",
            "Country           0\n",
            "dtype: int64\n"
          ]
        }
      ]
    },
    {
      "cell_type": "code",
      "source": [
        "# Drop rows with missing CustomerID\n",
        "df.dropna(subset=['CustomerID'], inplace=True)"
      ],
      "metadata": {
        "id": "ph_XV-OMc0GO"
      },
      "execution_count": null,
      "outputs": []
    },
    {
      "cell_type": "code",
      "source": [
        "# Remove duplicates\n",
        "df.drop_duplicates(inplace=True)"
      ],
      "metadata": {
        "id": "c3W7i141c0Vr"
      },
      "execution_count": null,
      "outputs": []
    },
    {
      "cell_type": "code",
      "source": [
        "# Remove transactions with negative quantities or prices\n",
        "df = df[(df['Quantity'] > 0) & (df['UnitPrice'] > 0)]"
      ],
      "metadata": {
        "id": "lyKhlW-Kc0YU"
      },
      "execution_count": null,
      "outputs": []
    },
    {
      "cell_type": "code",
      "source": [
        "# Remove extreme outliers (optional)\n",
        "q1 = df['Quantity'].quantile(0.01)\n",
        "q99 = df['Quantity'].quantile(0.99)\n",
        "df = df[(df['Quantity'] > q1) & (df['Quantity'] < q99)]"
      ],
      "metadata": {
        "id": "Revjkz40c0br"
      },
      "execution_count": null,
      "outputs": []
    }
  ]
}